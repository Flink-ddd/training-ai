{
 "cells": [
  {
   "cell_type": "code",
   "execution_count": 17,
   "id": "4ed3f385",
   "metadata": {},
   "outputs": [],
   "source": [
    "import xml.etree.ElementTree as ET  \n",
    "from collections import defaultdict  \n",
    "import re  \n",
    "import json  \n",
    "\n",
    "def parse_xml(xml_file, output_prefix):  \n",
    "    meta = defaultdict(dict)  # Maps post IDs to metadata  \n",
    "    text_file = open(f\"{output_prefix}_text.tsv\", \"w\")\n",
    "    \n",
    "    context = ET.iterparse(xml_file, events=(\"start\",))  \n",
    "    _, root = next(context)  # Skip root tag\n",
    "    \n",
    "    for event, elem in context:  \n",
    "        if elem.tag == \"row\" and elem.attrib.get(\"PostTypeId\") == \"2\":  # Filter answers  \n",
    "            post_id = int(elem.attrib[\"Id\"])  \n",
    "            parent_id = int(elem.attrib.get(\"ParentId\", -1))  \n",
    "            score = int(elem.attrib.get(\"Score\", 0))  \n",
    "            body = elem.attrib[\"Body\"]\n",
    "            \n",
    "            # Store metadata  \n",
    "            meta[post_id] = {  \n",
    "                \"ParentId\": parent_id,  \n",
    "                \"Score\": score,  \n",
    "                \"Body\": body  \n",
    "            }  \n",
    "            text_file.write(f\"{post_id}\\t{body}\\n\")  \n",
    "            elem.clear()  # Free memory\n",
    "    \n",
    "    root.clear()  \n",
    "    text_file.close()  \n",
    "    with open(f\"{output_prefix}_meta.json\", \"w\") as f:  \n",
    "        json.dump(meta, f)  \n",
    "\n",
    "# Example usage:  \n",
    "parse_xml(\"Posts.xml\", \"stack_data\")\n",
    "# 然后从 stack_data_meta.json 里重新加载 meta：\n",
    "import json\n",
    "with open(\"stack_data_meta.json\") as f:\n",
    "    meta = json.load(f)"
   ]
  },
  {
   "cell_type": "code",
   "execution_count": 18,
   "id": "1be31048",
   "metadata": {},
   "outputs": [
    {
     "name": "stdout",
     "output_type": "stream",
     "text": [
      "Label distribution: [ 34 182]\n"
     ]
    }
   ],
   "source": [
    "from collections import defaultdict  \n",
    "import numpy as np  \n",
    "\n",
    "def create_balanced_labels(meta, num_questions=10000):  \n",
    "    question_answers = defaultdict(list)  \n",
    "    for aid, data in meta.items():  \n",
    "        if data[\"ParentId\"] != -1:  # Skip questions  \n",
    "            question_answers[data[\"ParentId\"]].append(aid)\n",
    "    \n",
    "    # Select top and bottom scoring answers per question  \n",
    "    selected_aids = []  \n",
    "    for qid, aids in list(question_answers.items())[:num_questions]:  \n",
    "        if len(aids) < 2:  \n",
    "            continue  \n",
    "        scores = [meta[aid][\"Score\"] for aid in aids]  \n",
    "        top_aid = aids[np.argmax(scores)]  \n",
    "        bottom_aid = aids[np.argmin(scores)]  \n",
    "        selected_aids.extend([top_aid, bottom_aid])\n",
    "    \n",
    "    # Create labels (Score > 0 as good)  \n",
    "    X = [meta[aid][\"Body\"] for aid in selected_aids]  \n",
    "    Y = np.array([meta[aid][\"Score\"] > 0 for aid in selected_aids])  \n",
    "    return X, Y  \n",
    "\n",
    "X, Y = create_balanced_labels(meta)  # meta from parse_xml  \n",
    "print(f\"Label distribution: {np.bincount(Y)}\")  # Should be ~50% each"
   ]
  },
  {
   "cell_type": "code",
   "execution_count": 23,
   "id": "f5fb1ca0",
   "metadata": {},
   "outputs": [
    {
     "name": "stderr",
     "output_type": "stream",
     "text": [
      "[nltk_data] Downloading package punkt to /Users/muxiaohui/nltk_data...\n",
      "[nltk_data]   Package punkt is already up-to-date!\n"
     ]
    }
   ],
   "source": [
    "import re  \n",
    "from nltk.tokenize import word_tokenize, sent_tokenize  \n",
    "import nltk  \n",
    "nltk.download(\"punkt\")\n",
    "\n",
    "def extract_features(text):  \n",
    "    features = {}\n",
    "    \n",
    "    # HTML links (excluding those in code blocks)  \n",
    "    link_re = re.compile(r'<a href=\"http://.*?\">.*?</a>', re.IGNORECASE | re.DOTALL)  \n",
    "    code_re = re.compile(r'<pre>(.*?)</pre>', re.DOTALL)  \n",
    "    code_blocks = code_re.findall(text)  \n",
    "    text_no_code = code_re.sub(\"\", text)  \n",
    "    links = link_re.findall(text_no_code)  \n",
    "    features[\"link_count\"] = len(links)\n",
    "    \n",
    "    # Code lines  \n",
    "    code_lines = sum(len(block.split(\"\\n\")) for block in code_blocks)  \n",
    "    features[\"code_lines\"] = code_lines\n",
    "    \n",
    "    # Text complexity  \n",
    "    text_clean = re.sub(r'<.*?>', \"\", text_no_code).strip()  # Remove HTML tags  \n",
    "    tokens = word_tokenize(text_clean)  \n",
    "    features[\"word_count\"] = len(tokens)\n",
    "    \n",
    "    if tokens:  \n",
    "        sentences = sent_tokenize(text_clean)  \n",
    "        features[\"avg_sent_len\"] = np.mean([len(word_tokenize(s)) for s in sentences])  \n",
    "        features[\"avg_word_len\"] = np.mean([len(w) for w in tokens])\n",
    "    \n",
    "    # Stylistic features  \n",
    "    features[\"all_caps\"] = sum(1 for w in tokens if w.isupper())  \n",
    "    features[\"exclams\"] = text_clean.count(\"!\")\n",
    "    \n",
    "    return features  \n",
    "\n"
   ]
  },
  {
   "cell_type": "code",
   "execution_count": 27,
   "id": "501cab6d",
   "metadata": {},
   "outputs": [
    {
     "name": "stderr",
     "output_type": "stream",
     "text": [
      "[nltk_data] Downloading package punkt to /Users/muxiaohui/nltk_data...\n",
      "[nltk_data]   Package punkt is already up-to-date!\n"
     ]
    },
    {
     "data": {
      "text/plain": [
       "True"
      ]
     },
     "execution_count": 27,
     "metadata": {},
     "output_type": "execute_result"
    }
   ],
   "source": [
    "import nltk\n",
    "nltk.download(\"punkt\")"
   ]
  },
  {
   "cell_type": "code",
   "execution_count": 28,
   "id": "90366c27",
   "metadata": {},
   "outputs": [
    {
     "ename": "LookupError",
     "evalue": "\n**********************************************************************\n  Resource \u001b[93mpunkt_tab\u001b[0m not found.\n  Please use the NLTK Downloader to obtain the resource:\n\n  \u001b[31m>>> import nltk\n  >>> nltk.download('punkt_tab')\n  \u001b[0m\n  For more information see: https://www.nltk.org/data.html\n\n  Attempted to load \u001b[93mtokenizers/punkt_tab/english/\u001b[0m\n\n  Searched in:\n    - '/Users/muxiaohui/nltk_data'\n    - '/opt/anaconda3/envs/.conda/nltk_data'\n    - '/opt/anaconda3/envs/.conda/share/nltk_data'\n    - '/opt/anaconda3/envs/.conda/lib/nltk_data'\n    - '/usr/share/nltk_data'\n    - '/usr/local/share/nltk_data'\n    - '/usr/lib/nltk_data'\n    - '/usr/local/lib/nltk_data'\n**********************************************************************\n",
     "output_type": "error",
     "traceback": [
      "\u001b[0;31m---------------------------------------------------------------------------\u001b[0m",
      "\u001b[0;31mLookupError\u001b[0m                               Traceback (most recent call last)",
      "Cell \u001b[0;32mIn[28], line 6\u001b[0m\n\u001b[1;32m      3\u001b[0m \u001b[38;5;28;01mfrom\u001b[39;00m \u001b[38;5;21;01msklearn\u001b[39;00m\u001b[38;5;21;01m.\u001b[39;00m\u001b[38;5;21;01mpipeline\u001b[39;00m \u001b[38;5;28;01mimport\u001b[39;00m make_pipeline  \n\u001b[1;32m      5\u001b[0m \u001b[38;5;66;03m# Convert dict features to matrix  \u001b[39;00m\n\u001b[0;32m----> 6\u001b[0m features \u001b[38;5;241m=\u001b[39m [extract_features(text) \u001b[38;5;28;01mfor\u001b[39;00m text \u001b[38;5;129;01min\u001b[39;00m X] \n\u001b[1;32m      7\u001b[0m vec \u001b[38;5;241m=\u001b[39m DictVectorizer()  \n\u001b[1;32m      8\u001b[0m X_matrix \u001b[38;5;241m=\u001b[39m vec\u001b[38;5;241m.\u001b[39mfit_transform(features)  \n",
      "Cell \u001b[0;32mIn[28], line 6\u001b[0m, in \u001b[0;36m<listcomp>\u001b[0;34m(.0)\u001b[0m\n\u001b[1;32m      3\u001b[0m \u001b[38;5;28;01mfrom\u001b[39;00m \u001b[38;5;21;01msklearn\u001b[39;00m\u001b[38;5;21;01m.\u001b[39;00m\u001b[38;5;21;01mpipeline\u001b[39;00m \u001b[38;5;28;01mimport\u001b[39;00m make_pipeline  \n\u001b[1;32m      5\u001b[0m \u001b[38;5;66;03m# Convert dict features to matrix  \u001b[39;00m\n\u001b[0;32m----> 6\u001b[0m features \u001b[38;5;241m=\u001b[39m [\u001b[43mextract_features\u001b[49m\u001b[43m(\u001b[49m\u001b[43mtext\u001b[49m\u001b[43m)\u001b[49m \u001b[38;5;28;01mfor\u001b[39;00m text \u001b[38;5;129;01min\u001b[39;00m X] \n\u001b[1;32m      7\u001b[0m vec \u001b[38;5;241m=\u001b[39m DictVectorizer()  \n\u001b[1;32m      8\u001b[0m X_matrix \u001b[38;5;241m=\u001b[39m vec\u001b[38;5;241m.\u001b[39mfit_transform(features)  \n",
      "Cell \u001b[0;32mIn[23], line 23\u001b[0m, in \u001b[0;36mextract_features\u001b[0;34m(text)\u001b[0m\n\u001b[1;32m     21\u001b[0m \u001b[38;5;66;03m# Text complexity  \u001b[39;00m\n\u001b[1;32m     22\u001b[0m text_clean \u001b[38;5;241m=\u001b[39m re\u001b[38;5;241m.\u001b[39msub(\u001b[38;5;124mr\u001b[39m\u001b[38;5;124m'\u001b[39m\u001b[38;5;124m<.*?>\u001b[39m\u001b[38;5;124m'\u001b[39m, \u001b[38;5;124m\"\u001b[39m\u001b[38;5;124m\"\u001b[39m, text_no_code)\u001b[38;5;241m.\u001b[39mstrip()  \u001b[38;5;66;03m# Remove HTML tags  \u001b[39;00m\n\u001b[0;32m---> 23\u001b[0m tokens \u001b[38;5;241m=\u001b[39m \u001b[43mword_tokenize\u001b[49m\u001b[43m(\u001b[49m\u001b[43mtext_clean\u001b[49m\u001b[43m)\u001b[49m  \n\u001b[1;32m     24\u001b[0m features[\u001b[38;5;124m\"\u001b[39m\u001b[38;5;124mword_count\u001b[39m\u001b[38;5;124m\"\u001b[39m] \u001b[38;5;241m=\u001b[39m \u001b[38;5;28mlen\u001b[39m(tokens)\n\u001b[1;32m     26\u001b[0m \u001b[38;5;28;01mif\u001b[39;00m tokens:  \n",
      "File \u001b[0;32m/opt/anaconda3/envs/.conda/lib/python3.10/site-packages/nltk/tokenize/__init__.py:142\u001b[0m, in \u001b[0;36mword_tokenize\u001b[0;34m(text, language, preserve_line)\u001b[0m\n\u001b[1;32m    127\u001b[0m \u001b[38;5;28;01mdef\u001b[39;00m \u001b[38;5;21mword_tokenize\u001b[39m(text, language\u001b[38;5;241m=\u001b[39m\u001b[38;5;124m\"\u001b[39m\u001b[38;5;124menglish\u001b[39m\u001b[38;5;124m\"\u001b[39m, preserve_line\u001b[38;5;241m=\u001b[39m\u001b[38;5;28;01mFalse\u001b[39;00m):\n\u001b[1;32m    128\u001b[0m \u001b[38;5;250m    \u001b[39m\u001b[38;5;124;03m\"\"\"\u001b[39;00m\n\u001b[1;32m    129\u001b[0m \u001b[38;5;124;03m    Return a tokenized copy of *text*,\u001b[39;00m\n\u001b[1;32m    130\u001b[0m \u001b[38;5;124;03m    using NLTK's recommended word tokenizer\u001b[39;00m\n\u001b[0;32m   (...)\u001b[0m\n\u001b[1;32m    140\u001b[0m \u001b[38;5;124;03m    :type preserve_line: bool\u001b[39;00m\n\u001b[1;32m    141\u001b[0m \u001b[38;5;124;03m    \"\"\"\u001b[39;00m\n\u001b[0;32m--> 142\u001b[0m     sentences \u001b[38;5;241m=\u001b[39m [text] \u001b[38;5;28;01mif\u001b[39;00m preserve_line \u001b[38;5;28;01melse\u001b[39;00m \u001b[43msent_tokenize\u001b[49m\u001b[43m(\u001b[49m\u001b[43mtext\u001b[49m\u001b[43m,\u001b[49m\u001b[43m \u001b[49m\u001b[43mlanguage\u001b[49m\u001b[43m)\u001b[49m\n\u001b[1;32m    143\u001b[0m     \u001b[38;5;28;01mreturn\u001b[39;00m [\n\u001b[1;32m    144\u001b[0m         token \u001b[38;5;28;01mfor\u001b[39;00m sent \u001b[38;5;129;01min\u001b[39;00m sentences \u001b[38;5;28;01mfor\u001b[39;00m token \u001b[38;5;129;01min\u001b[39;00m _treebank_word_tokenizer\u001b[38;5;241m.\u001b[39mtokenize(sent)\n\u001b[1;32m    145\u001b[0m     ]\n",
      "File \u001b[0;32m/opt/anaconda3/envs/.conda/lib/python3.10/site-packages/nltk/tokenize/__init__.py:119\u001b[0m, in \u001b[0;36msent_tokenize\u001b[0;34m(text, language)\u001b[0m\n\u001b[1;32m    109\u001b[0m \u001b[38;5;28;01mdef\u001b[39;00m \u001b[38;5;21msent_tokenize\u001b[39m(text, language\u001b[38;5;241m=\u001b[39m\u001b[38;5;124m\"\u001b[39m\u001b[38;5;124menglish\u001b[39m\u001b[38;5;124m\"\u001b[39m):\n\u001b[1;32m    110\u001b[0m \u001b[38;5;250m    \u001b[39m\u001b[38;5;124;03m\"\"\"\u001b[39;00m\n\u001b[1;32m    111\u001b[0m \u001b[38;5;124;03m    Return a sentence-tokenized copy of *text*,\u001b[39;00m\n\u001b[1;32m    112\u001b[0m \u001b[38;5;124;03m    using NLTK's recommended sentence tokenizer\u001b[39;00m\n\u001b[0;32m   (...)\u001b[0m\n\u001b[1;32m    117\u001b[0m \u001b[38;5;124;03m    :param language: the model name in the Punkt corpus\u001b[39;00m\n\u001b[1;32m    118\u001b[0m \u001b[38;5;124;03m    \"\"\"\u001b[39;00m\n\u001b[0;32m--> 119\u001b[0m     tokenizer \u001b[38;5;241m=\u001b[39m \u001b[43m_get_punkt_tokenizer\u001b[49m\u001b[43m(\u001b[49m\u001b[43mlanguage\u001b[49m\u001b[43m)\u001b[49m\n\u001b[1;32m    120\u001b[0m     \u001b[38;5;28;01mreturn\u001b[39;00m tokenizer\u001b[38;5;241m.\u001b[39mtokenize(text)\n",
      "File \u001b[0;32m/opt/anaconda3/envs/.conda/lib/python3.10/site-packages/nltk/tokenize/__init__.py:105\u001b[0m, in \u001b[0;36m_get_punkt_tokenizer\u001b[0;34m(language)\u001b[0m\n\u001b[1;32m     96\u001b[0m \u001b[38;5;129m@functools\u001b[39m\u001b[38;5;241m.\u001b[39mlru_cache\n\u001b[1;32m     97\u001b[0m \u001b[38;5;28;01mdef\u001b[39;00m \u001b[38;5;21m_get_punkt_tokenizer\u001b[39m(language\u001b[38;5;241m=\u001b[39m\u001b[38;5;124m\"\u001b[39m\u001b[38;5;124menglish\u001b[39m\u001b[38;5;124m\"\u001b[39m):\n\u001b[1;32m     98\u001b[0m \u001b[38;5;250m    \u001b[39m\u001b[38;5;124;03m\"\"\"\u001b[39;00m\n\u001b[1;32m     99\u001b[0m \u001b[38;5;124;03m    A constructor for the PunktTokenizer that utilizes\u001b[39;00m\n\u001b[1;32m    100\u001b[0m \u001b[38;5;124;03m    a lru cache for performance.\u001b[39;00m\n\u001b[0;32m   (...)\u001b[0m\n\u001b[1;32m    103\u001b[0m \u001b[38;5;124;03m    :type language: str\u001b[39;00m\n\u001b[1;32m    104\u001b[0m \u001b[38;5;124;03m    \"\"\"\u001b[39;00m\n\u001b[0;32m--> 105\u001b[0m     \u001b[38;5;28;01mreturn\u001b[39;00m \u001b[43mPunktTokenizer\u001b[49m\u001b[43m(\u001b[49m\u001b[43mlanguage\u001b[49m\u001b[43m)\u001b[49m\n",
      "File \u001b[0;32m/opt/anaconda3/envs/.conda/lib/python3.10/site-packages/nltk/tokenize/punkt.py:1744\u001b[0m, in \u001b[0;36mPunktTokenizer.__init__\u001b[0;34m(self, lang)\u001b[0m\n\u001b[1;32m   1742\u001b[0m \u001b[38;5;28;01mdef\u001b[39;00m \u001b[38;5;21m__init__\u001b[39m(\u001b[38;5;28mself\u001b[39m, lang\u001b[38;5;241m=\u001b[39m\u001b[38;5;124m\"\u001b[39m\u001b[38;5;124menglish\u001b[39m\u001b[38;5;124m\"\u001b[39m):\n\u001b[1;32m   1743\u001b[0m     PunktSentenceTokenizer\u001b[38;5;241m.\u001b[39m\u001b[38;5;21m__init__\u001b[39m(\u001b[38;5;28mself\u001b[39m)\n\u001b[0;32m-> 1744\u001b[0m     \u001b[38;5;28;43mself\u001b[39;49m\u001b[38;5;241;43m.\u001b[39;49m\u001b[43mload_lang\u001b[49m\u001b[43m(\u001b[49m\u001b[43mlang\u001b[49m\u001b[43m)\u001b[49m\n",
      "File \u001b[0;32m/opt/anaconda3/envs/.conda/lib/python3.10/site-packages/nltk/tokenize/punkt.py:1749\u001b[0m, in \u001b[0;36mPunktTokenizer.load_lang\u001b[0;34m(self, lang)\u001b[0m\n\u001b[1;32m   1746\u001b[0m \u001b[38;5;28;01mdef\u001b[39;00m \u001b[38;5;21mload_lang\u001b[39m(\u001b[38;5;28mself\u001b[39m, lang\u001b[38;5;241m=\u001b[39m\u001b[38;5;124m\"\u001b[39m\u001b[38;5;124menglish\u001b[39m\u001b[38;5;124m\"\u001b[39m):\n\u001b[1;32m   1747\u001b[0m     \u001b[38;5;28;01mfrom\u001b[39;00m \u001b[38;5;21;01mnltk\u001b[39;00m\u001b[38;5;21;01m.\u001b[39;00m\u001b[38;5;21;01mdata\u001b[39;00m \u001b[38;5;28;01mimport\u001b[39;00m find\n\u001b[0;32m-> 1749\u001b[0m     lang_dir \u001b[38;5;241m=\u001b[39m \u001b[43mfind\u001b[49m\u001b[43m(\u001b[49m\u001b[38;5;124;43mf\u001b[39;49m\u001b[38;5;124;43m\"\u001b[39;49m\u001b[38;5;124;43mtokenizers/punkt_tab/\u001b[39;49m\u001b[38;5;132;43;01m{\u001b[39;49;00m\u001b[43mlang\u001b[49m\u001b[38;5;132;43;01m}\u001b[39;49;00m\u001b[38;5;124;43m/\u001b[39;49m\u001b[38;5;124;43m\"\u001b[39;49m\u001b[43m)\u001b[49m\n\u001b[1;32m   1750\u001b[0m     \u001b[38;5;28mself\u001b[39m\u001b[38;5;241m.\u001b[39m_params \u001b[38;5;241m=\u001b[39m load_punkt_params(lang_dir)\n\u001b[1;32m   1751\u001b[0m     \u001b[38;5;28mself\u001b[39m\u001b[38;5;241m.\u001b[39m_lang \u001b[38;5;241m=\u001b[39m lang\n",
      "File \u001b[0;32m/opt/anaconda3/envs/.conda/lib/python3.10/site-packages/nltk/data.py:579\u001b[0m, in \u001b[0;36mfind\u001b[0;34m(resource_name, paths)\u001b[0m\n\u001b[1;32m    577\u001b[0m sep \u001b[38;5;241m=\u001b[39m \u001b[38;5;124m\"\u001b[39m\u001b[38;5;124m*\u001b[39m\u001b[38;5;124m\"\u001b[39m \u001b[38;5;241m*\u001b[39m \u001b[38;5;241m70\u001b[39m\n\u001b[1;32m    578\u001b[0m resource_not_found \u001b[38;5;241m=\u001b[39m \u001b[38;5;124mf\u001b[39m\u001b[38;5;124m\"\u001b[39m\u001b[38;5;130;01m\\n\u001b[39;00m\u001b[38;5;132;01m{\u001b[39;00msep\u001b[38;5;132;01m}\u001b[39;00m\u001b[38;5;130;01m\\n\u001b[39;00m\u001b[38;5;132;01m{\u001b[39;00mmsg\u001b[38;5;132;01m}\u001b[39;00m\u001b[38;5;130;01m\\n\u001b[39;00m\u001b[38;5;132;01m{\u001b[39;00msep\u001b[38;5;132;01m}\u001b[39;00m\u001b[38;5;130;01m\\n\u001b[39;00m\u001b[38;5;124m\"\u001b[39m\n\u001b[0;32m--> 579\u001b[0m \u001b[38;5;28;01mraise\u001b[39;00m \u001b[38;5;167;01mLookupError\u001b[39;00m(resource_not_found)\n",
      "\u001b[0;31mLookupError\u001b[0m: \n**********************************************************************\n  Resource \u001b[93mpunkt_tab\u001b[0m not found.\n  Please use the NLTK Downloader to obtain the resource:\n\n  \u001b[31m>>> import nltk\n  >>> nltk.download('punkt_tab')\n  \u001b[0m\n  For more information see: https://www.nltk.org/data.html\n\n  Attempted to load \u001b[93mtokenizers/punkt_tab/english/\u001b[0m\n\n  Searched in:\n    - '/Users/muxiaohui/nltk_data'\n    - '/opt/anaconda3/envs/.conda/nltk_data'\n    - '/opt/anaconda3/envs/.conda/share/nltk_data'\n    - '/opt/anaconda3/envs/.conda/lib/nltk_data'\n    - '/usr/share/nltk_data'\n    - '/usr/local/share/nltk_data'\n    - '/usr/lib/nltk_data'\n    - '/usr/local/lib/nltk_data'\n**********************************************************************\n"
     ]
    }
   ],
   "source": [
    "from sklearn.feature_extraction import DictVectorizer  \n",
    "from sklearn.preprocessing import StandardScaler  \n",
    "from sklearn.pipeline import make_pipeline  \n",
    "\n",
    "# Convert dict features to matrix  \n",
    "features = [extract_features(text) for text in X] \n",
    "vec = DictVectorizer()  \n",
    "X_matrix = vec.fit_transform(features)  \n",
    "\n",
    "# Standardize features  \n",
    "scaler = StandardScaler()  \n",
    "X_standardized = scaler.fit_transform(X_matrix)  "
   ]
  }
 ],
 "metadata": {
  "kernelspec": {
   "display_name": ".conda",
   "language": "python",
   "name": "python3"
  },
  "language_info": {
   "codemirror_mode": {
    "name": "ipython",
    "version": 3
   },
   "file_extension": ".py",
   "mimetype": "text/x-python",
   "name": "python",
   "nbconvert_exporter": "python",
   "pygments_lexer": "ipython3",
   "version": "3.10.16"
  }
 },
 "nbformat": 4,
 "nbformat_minor": 5
}
